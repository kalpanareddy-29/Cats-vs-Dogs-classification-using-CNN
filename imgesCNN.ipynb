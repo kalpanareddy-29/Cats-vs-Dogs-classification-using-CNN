{
 "cells": [
  {
   "cell_type": "raw",
   "id": "2768a836-1281-43fd-804d-4aad4dfb693b",
   "metadata": {},
   "source": [
    "IMPORTING LIBRARIES"
   ]
  },
  {
   "cell_type": "code",
   "execution_count": 25,
   "id": "ade6ba25",
   "metadata": {},
   "outputs": [
    {
     "name": "stdout",
     "output_type": "stream",
     "text": [
      "Defaulting to user installation because normal site-packages is not writeableNote: you may need to restart the kernel to use updated packages.\n",
      "\n",
      "Requirement already satisfied: opencv-python in c:\\users\\kalpa\\appdata\\roaming\\python\\python39\\site-packages (4.9.0.80)\n",
      "Requirement already satisfied: numpy>=1.17.3 in c:\\users\\kalpa\\appdata\\roaming\\python\\python39\\site-packages (from opencv-python) (1.26.0)\n"
     ]
    }
   ],
   "source": [
    "pip install opencv-python"
   ]
  },
  {
   "cell_type": "code",
   "execution_count": 7,
   "id": "91d2097a-cb63-407f-a26f-54b0f2239e93",
   "metadata": {},
   "outputs": [],
   "source": [
    "import numpy as np\n",
    "import pandas as pd\n",
    "import cv2\n",
    "import os #specify location\n",
    "import matplotlib.pyplot as plt\n",
    "import pickle\n",
    "from PIL import Image               "
   ]
  },
  {
   "cell_type": "code",
   "execution_count": 8,
   "id": "5c447e03-293a-4684-becc-81d8bdb793ac",
   "metadata": {},
   "outputs": [],
   "source": [
    "Dir = \"C:/Users/kalpa/Desktop/PetImages\"\n",
    "categ =['Cat','dog']"
   ]
  },
  {
   "cell_type": "code",
   "execution_count": 9,
   "id": "361956a7-d560-4cda-866f-cd9ff341459c",
   "metadata": {},
   "outputs": [
    {
     "name": "stdout",
     "output_type": "stream",
     "text": [
      "C:/Users/kalpa/Desktop/PetImages\\Cat\n",
      "C:/Users/kalpa/Desktop/PetImages\\dog\n"
     ]
    }
   ],
   "source": [
    "for c in categ:\n",
    "    folder =os.path.join(Dir,c)\n",
    "    print(folder) "
   ]
  },
  {
   "cell_type": "code",
   "execution_count": 10,
   "id": "3c59d483-9aa5-476e-ad4c-277d894c36a1",
   "metadata": {},
   "outputs": [],
   "source": [
    "IMG_SIZE = 50  # Replace with your actual desired width\n",
    "IMG_height = 50  # Replace with your actual desired height\n",
    "data=[]\n",
    "for c in categ:\n",
    "    folder =os.path.join(Dir,c)\n",
    "    label=categ.index(c)\n",
    "    for img in os.listdir(folder):\n",
    "        img_path = os.path.join(folder, img)\n",
    "        img_arr = cv2.imread(img_path)\n",
    "    # Check if img_arr is not None and has non-empty dimensions\n",
    "        if img_arr is not None and img_arr.size != 0:\n",
    "                img_arr = cv2.resize(img_arr, (IMG_SIZE, IMG_height))\n",
    "                data.append([img_arr, label])\n",
    "        else:\n",
    "               print(f\"Error reading or resizing image: {img_path}\")"
   ]
  },
  {
   "cell_type": "code",
   "execution_count": 11,
   "id": "bef36c4c-19fa-40ac-9e6b-f1e1e2fcf2cf",
   "metadata": {},
   "outputs": [
    {
     "data": {
      "text/plain": [
       "24947"
      ]
     },
     "execution_count": 11,
     "metadata": {},
     "output_type": "execute_result"
    }
   ],
   "source": [
    "len(data)"
   ]
  },
  {
   "cell_type": "code",
   "execution_count": 12,
   "id": "0c62b502-730b-42d1-9789-179615efcc85",
   "metadata": {},
   "outputs": [],
   "source": [
    "import random\n",
    "random.shuffle(data) "
   ]
  },
  {
   "cell_type": "code",
   "execution_count": 13,
   "id": "dbdd61b6-6d8e-4ae2-a97d-e142f86757d1",
   "metadata": {},
   "outputs": [
    {
     "data": {
      "text/plain": [
       "[array([[[  1,  62, 118],\n",
       "         [  0,  73, 127],\n",
       "         [  0,  73, 126],\n",
       "         ...,\n",
       "         [ 14,  89, 143],\n",
       "         [  1,  75, 129],\n",
       "         [  9,  89, 142]],\n",
       " \n",
       "        [[  7,  81, 135],\n",
       "         [  6,  82, 135],\n",
       "         [  3,  82, 135],\n",
       "         ...,\n",
       "         [ 10,  90, 143],\n",
       "         [  2,  77, 130],\n",
       "         [  7,  87, 140]],\n",
       " \n",
       "        [[  9,  86, 139],\n",
       "         [ 13,  92, 145],\n",
       "         [  7,  77, 134],\n",
       "         ...,\n",
       "         [ 11,  91, 144],\n",
       "         [  1,  80, 135],\n",
       "         [ 14,  94, 149]],\n",
       " \n",
       "        ...,\n",
       " \n",
       "        [[ 78, 158, 211],\n",
       "         [ 80, 160, 213],\n",
       "         [ 78, 163, 215],\n",
       "         ...,\n",
       "         [ 41,  79, 214],\n",
       "         [ 49,  87, 239],\n",
       "         [ 89, 170, 222]],\n",
       " \n",
       "        [[ 79, 165, 217],\n",
       "         [ 84, 170, 222],\n",
       "         [ 87, 167, 220],\n",
       "         ...,\n",
       "         [ 86, 173, 223],\n",
       "         [ 95, 175, 228],\n",
       "         [ 80, 160, 213]],\n",
       " \n",
       "        [[ 88, 164, 217],\n",
       "         [ 88, 164, 217],\n",
       "         [ 81, 161, 214],\n",
       "         ...,\n",
       "         [ 99, 182, 232],\n",
       "         [101, 182, 234],\n",
       "         [ 94, 176, 226]]], dtype=uint8),\n",
       " 1]"
      ]
     },
     "execution_count": 13,
     "metadata": {},
     "output_type": "execute_result"
    }
   ],
   "source": [
    "data[0]"
   ]
  },
  {
   "cell_type": "code",
   "execution_count": 14,
   "id": "210ac387-d761-41d7-a841-b8e69a987f52",
   "metadata": {},
   "outputs": [],
   "source": [
    "x=[]\n",
    "y=[]\n",
    "for featu,labels in data:\n",
    "    x.append(featu)\n",
    "    y.append(labels)"
   ]
  },
  {
   "cell_type": "code",
   "execution_count": 15,
   "id": "e4d24598-cd5c-4429-9b93-00fc2d55e415",
   "metadata": {},
   "outputs": [],
   "source": [
    "x=np.array(x)\n",
    "y=np.array(y)"
   ]
  },
  {
   "cell_type": "code",
   "execution_count": 16,
   "id": "7b2287a8-2bef-4272-bb70-333426fce1ea",
   "metadata": {},
   "outputs": [
    {
     "data": {
      "text/plain": [
       "24947"
      ]
     },
     "execution_count": 16,
     "metadata": {},
     "output_type": "execute_result"
    }
   ],
   "source": [
    "len(x)"
   ]
  },
  {
   "cell_type": "code",
   "execution_count": 17,
   "id": "8318df30-6f72-4ba2-a726-71f3bce99620",
   "metadata": {},
   "outputs": [
    {
     "data": {
      "text/plain": [
       "24947"
      ]
     },
     "execution_count": 17,
     "metadata": {},
     "output_type": "execute_result"
    }
   ],
   "source": [
    "len(y)"
   ]
  },
  {
   "cell_type": "code",
   "execution_count": 18,
   "id": "b119cb9b-f0b7-41fe-9de7-735ef9a48e0d",
   "metadata": {},
   "outputs": [],
   "source": [
    "#pickle.dump(x,open('x.pkl','wb'))\n",
    "#pickle.dump(y,open('y.pkl','wb'))\n",
    "\n"
   ]
  },
  {
   "cell_type": "code",
   "execution_count": 19,
   "id": "7cbc97ed-1e9b-4b17-af87-84a6f4dbaa8a",
   "metadata": {},
   "outputs": [],
   "source": [
    "x=x/255"
   ]
  },
  {
   "cell_type": "code",
   "execution_count": 20,
   "id": "dfcf7f54-65ff-4130-9163-dfd1d930bcd7",
   "metadata": {},
   "outputs": [
    {
     "data": {
      "text/plain": [
       "array([1, 0, 0, ..., 1, 0, 0])"
      ]
     },
     "execution_count": 20,
     "metadata": {},
     "output_type": "execute_result"
    }
   ],
   "source": [
    "y"
   ]
  },
  {
   "cell_type": "code",
   "execution_count": 21,
   "id": "e5850fce-27c3-4689-8734-b6a4412edcda",
   "metadata": {},
   "outputs": [
    {
     "data": {
      "text/plain": [
       "(24947, 50, 50, 3)"
      ]
     },
     "execution_count": 21,
     "metadata": {},
     "output_type": "execute_result"
    }
   ],
   "source": [
    "x.shape"
   ]
  },
  {
   "cell_type": "code",
   "execution_count": null,
   "id": "f4900439-fc0c-4dff-acea-4d125f888911",
   "metadata": {},
   "outputs": [],
   "source": []
  },
  {
   "cell_type": "code",
   "execution_count": 23,
   "id": "e28b5ecf-e6cc-40a6-819b-53225c64b97c",
   "metadata": {},
   "outputs": [],
   "source": [
    "#training the mode\n",
    "from keras.models import Sequential\n",
    "from keras.layers import Conv2D,MaxPooling2D,Flatten,Dense\n",
    "from keras.applications import VGG16\n",
    "from keras.models import Sequential\n",
    "from keras.layers import Dense, Flatten"
   ]
  },
  {
   "cell_type": "code",
   "execution_count": 24,
   "id": "67ae6ef2-0840-4d3f-8a40-2239c94aef80",
   "metadata": {},
   "outputs": [],
   "source": [
    "\n",
    "model=Sequential()\n",
    "model.add(Conv2D(64,(3,3),activation='relu'))\n",
    "model.add(MaxPooling2D(2,2))\n",
    "model.add(Conv2D(64,(3,3),activation='relu'))\n",
    "model.add(MaxPooling2D(2,2))\n",
    "model.add(Flatten())\n",
    "model.add(Dense(128,input_shape=x.shape[1:],activation='relu'))\n",
    "model.add(Dense(2,activation='softmax'))"
   ]
  },
  {
   "cell_type": "code",
   "execution_count": 25,
   "id": "8ea41b07-2307-4db8-8060-0ab344a9d4e2",
   "metadata": {},
   "outputs": [
    {
     "name": "stdout",
     "output_type": "stream",
     "text": [
      "WARNING:tensorflow:From C:\\Users\\kalpa\\AppData\\Roaming\\Python\\Python39\\site-packages\\keras\\src\\optimizers\\__init__.py:309: The name tf.train.Optimizer is deprecated. Please use tf.compat.v1.train.Optimizer instead.\n",
      "\n"
     ]
    }
   ],
   "source": [
    "model.compile(optimizer='adam',\n",
    "             loss='sparse_categorical_crossentropy',#this is used when only 2 output neurons\n",
    "             metrics=['accuracy'],run_eagerly=True)#want to research on optimisers"
   ]
  },
  {
   "cell_type": "code",
   "execution_count": 26,
   "id": "b8226260-98ee-48f2-bb22-a4c43d970bcd",
   "metadata": {},
   "outputs": [
    {
     "name": "stdout",
     "output_type": "stream",
     "text": [
      "Epoch 1/6\n",
      "624/624 [==============================] - 112s 177ms/step - loss: 0.6287 - accuracy: 0.6361 - val_loss: 0.5495 - val_accuracy: 0.7176\n",
      "Epoch 2/6\n",
      "624/624 [==============================] - 112s 180ms/step - loss: 0.5075 - accuracy: 0.7499 - val_loss: 0.4715 - val_accuracy: 0.7814\n",
      "Epoch 3/6\n",
      "624/624 [==============================] - 107s 172ms/step - loss: 0.4567 - accuracy: 0.7842 - val_loss: 0.4641 - val_accuracy: 0.7824\n",
      "Epoch 4/6\n",
      "624/624 [==============================] - 95s 152ms/step - loss: 0.4164 - accuracy: 0.8087 - val_loss: 0.4287 - val_accuracy: 0.8072\n",
      "Epoch 5/6\n",
      "624/624 [==============================] - 103s 164ms/step - loss: 0.3761 - accuracy: 0.8294 - val_loss: 0.4187 - val_accuracy: 0.8108\n",
      "Epoch 6/6\n",
      "624/624 [==============================] - 101s 162ms/step - loss: 0.3284 - accuracy: 0.8573 - val_loss: 0.4538 - val_accuracy: 0.7942\n"
     ]
    }
   ],
   "source": [
    "history=model.fit(x,y,epochs=6,validation_split=0.2) "
   ]
  },
  {
   "cell_type": "code",
   "execution_count": 34,
   "id": "36e936ad-c79b-40eb-84a9-9bd3b1cf29e7",
   "metadata": {},
   "outputs": [
    {
     "data": {
      "text/plain": [
       "<matplotlib.legend.Legend at 0x222277f3fa0>"
      ]
     },
     "execution_count": 34,
     "metadata": {},
     "output_type": "execute_result"
    },
    {
     "data": {
      "image/png": "[encoded data removed]",
      "text/plain": [
       "<Figure size 640x480 with 1 Axes>"
      ]
     },
     "metadata": {},
     "output_type": "display_data"
    }
   ],
   "source": [
    "plt.plot(history.history['accuracy'])\n",
    "plt.plot(history.history['val_accuracy'])\n",
    "plt.xlabel(\"epochs\")\n",
    "plt.ylabel(\"accuracy\")\n",
    "plt.title(\"Model Accuracy\")\n",
    "plt.legend(['training data','validation data'],loc='lower right')"
   ]
  },
  {
   "cell_type": "code",
   "execution_count": 41,
   "id": "0f8fb2f9-938d-4208-bfd7-70f516913433",
   "metadata": {},
   "outputs": [
    {
     "data": {
      "text/plain": [
       "<matplotlib.legend.Legend at 0x2222e441910>"
      ]
     },
     "execution_count": 41,
     "metadata": {},
     "output_type": "execute_result"
    },
    {
     "data": {
      "image/png": "[encoded data removed]",
      "text/plain": [
       "<Figure size 640x480 with 1 Axes>"
      ]
     },
     "metadata": {},
     "output_type": "display_data"
    }
   ],
   "source": [
    "plt.plot(history.history['loss'])\n",
    "plt.plot(history.history['val_loss'])\n",
    "plt.xlabel(\"epochs\")\n",
    "plt.ylabel(\"loss\")\n",
    "plt.title(\"Model Accuracy\")\n",
    "plt.legend(['training data','validation data'],loc='upper right')"
   ]
  },
  {
   "cell_type": "code",
   "execution_count": 36,
   "id": "6bb7ba8e-b37b-4648-988b-61bb3b06cc45",
   "metadata": {},
   "outputs": [
    {
     "name": "stdout",
     "output_type": "stream",
     "text": [
      "Final Training Accuracy: 0.8572931885719299\n",
      "Final Validation Accuracy: 0.794188380241394\n"
     ]
    }
   ],
   "source": [
    "final_training_accuracy = history.history['accuracy'][-1]\n",
    "\n",
    "# Access final validation accuracy\n",
    "final_validation_accuracy = history.history['val_accuracy'][-1]\n",
    "\n",
    "print(f\"Final Training Accuracy: {final_training_accuracy}\")\n",
    "print(f\"Final Validation Accuracy: {final_validation_accuracy}\")"
   ]
  },
  {
   "cell_type": "code",
   "execution_count": 37,
   "id": "730c860d-f04e-4c84-860c-7b78cdbb06cb",
   "metadata": {},
   "outputs": [
    {
     "name": "stdout",
     "output_type": "stream",
     "text": [
      "780/780 [==============================] - 270s 340ms/step\n"
     ]
    }
   ],
   "source": [
    "y_pred=model.predict(x)"
   ]
  },
  {
   "cell_type": "code",
   "execution_count": 46,
   "id": "ca9a4093-367f-4761-9664-4db2553fa470",
   "metadata": {},
   "outputs": [],
   "source": [
    "from keras.applications.imagenet_utils import decode_predictions"
   ]
  },
  {
   "cell_type": "code",
   "execution_count": 47,
   "id": "1f05342d-3970-4a2d-9fe8-e0e53a63f908",
   "metadata": {},
   "outputs": [
    {
     "name": "stdout",
     "output_type": "stream",
     "text": [
      "1/1 [==============================] - 3s 3s/step\n",
      "Dog\n"
     ]
    }
   ],
   "source": [
    "#testing the model\n",
    "#lets check the 2 images for cat and dog.\n",
    "import os\n",
    "from keras.preprocessing import image\n",
    "import numpy as np\n",
    "img_path = r\"C:\\Users\\kalpa\\Desktop\\image1.jpg\"\n",
    "# Check if the file exists\n",
    "if os.path.exists(img_path):\n",
    "    # Load the image\n",
    "    img = image.load_img(img_path, target_size=(224, 224))  # Adjust target_size as needed\n",
    "    \n",
    "    # Convert the image to a numpy array\n",
    "    img_array = image.img_to_array(img)\n",
    "    \n",
    "    # Expand dimensions to match the model's expected input shape\n",
    "    img_array = np.expand_dims(img_array, axis=0)\n",
    "    \n",
    "    # Rest of your code for processing the image\n",
    "else:\n",
    "    print(f\"Error: The file '{img_path}' does not exist.\")\n",
    "\n",
    "# Preprocess the input data (normalize pixel values, etc.) \n",
    "\n",
    "# Load a pre-trained ResNet50 model\n",
    "from tensorflow.keras.applications.resnet50 import ResNet50\n",
    "model = ResNet50(weights='imagenet')\n",
    "# Make predictions\n",
    "# Make predictions\n",
    "predictions = model.predict(img_array)\n",
    "decoded_predictions = decode_predictions(predictions, top=1)[0]\n",
    "\n",
    "# Extract the class label and probability\n",
    "class_label = decoded_predictions[0][1]\n",
    "probability = decoded_predictions[0][2]\n",
    "\n",
    "# Rest of your code based on predictions\n",
    "pred = round(probability)\n",
    "if pred == 0:\n",
    "    # Your code for the case where the prediction is 0\n",
    "    print(\"Cat\")\n",
    "else:\n",
    "    # Your code for the case where the prediction is not 0\n",
    "    print(\"Dog\")"
   ]
  },
  {
   "cell_type": "code",
   "execution_count": null,
   "id": "fb6d1b9a-bc1c-4503-9468-7663d1dd0b4c",
   "metadata": {},
   "outputs": [],
   "source": [
    "Model Architecture: Cats vs Dogs Classification CNN\n",
    "\n",
    "Input: RGB Images (e.g., 224x224 pixels)\n",
    "\n",
    "Convolutional Base:\n",
    "1. Conv2D (Filters: 32, Kernel Size: (3, 3), Activation: ReLU, Input Shape: (224, 224, 3))\n",
    "2. MaxPooling2D (Pool Size: (2, 2))\n",
    "\n",
    "2. Conv2D (Filters: 64, Kernel Size: (3, 3), Activation: ReLU)\n",
    "3. MaxPooling2D (Pool Size: (2, 2))\n",
    "\n",
    "3. Conv2D (Filters: 128, Kernel Size: (3, 3), Activation: ReLU)\n",
    "4. MaxPooling2D (Pool Size: (2, 2))\n",
    "\n",
    "Flatten Layer:\n",
    "5. Flatten\n",
    "\n",
    "Dense Layers:\n",
    "6. Dense (Units: 128, Activation: ReLU)\n",
    "7. Dropout (Rate: 0.5)  # Optional for regularization\n",
    "\n",
    "8. Dense (Units: 1, Activation: Sigmoid)  # Binary classification: Cats or Dogs\n",
    "\n",
    "Compile:\n",
    "- Loss: Binary Crossentropy\n",
    "- Optimizer: Adam\n",
    "- Metrics: Accuracy"
   ]
  },
  {
   "cell_type": "code",
   "execution_count": null,
   "id": "aefdb82a-fc7c-4dd6-b3fd-77cc2af80de7",
   "metadata": {},
   "outputs": [],
   "source": []
  },
  {
   "cell_type": "code",
   "execution_count": null,
   "id": "6f409e26-189f-4ed3-9a53-1a64939e6a79",
   "metadata": {},
   "outputs": [],
   "source": []
  },
  {
   "cell_type": "code",
   "execution_count": null,
   "id": "b204a3a8-5e3b-45ee-9664-1fdbd1f2be91",
   "metadata": {},
   "outputs": [],
   "source": []
  }
 ],
 "metadata": {
  "kernelspec": {
   "display_name": "Python 3 (ipykernel)",
   "language": "python",
   "name": "python3"
  },
  "language_info": {
   "codemirror_mode": {
    "name": "ipython",
    "version": 3
   },
   "file_extension": ".py",
   "mimetype": "text/x-python",
   "name": "python",
   "nbconvert_exporter": "python",
   "pygments_lexer": "ipython3",
   "version": "3.9.18"
  }
 },
 "nbformat": 4,
 "nbformat_minor": 5
}
